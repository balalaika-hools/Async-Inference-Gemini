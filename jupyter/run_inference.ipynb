{
 "cells": [
  {
   "cell_type": "code",
   "execution_count": 1,
   "id": "30241841",
   "metadata": {},
   "outputs": [],
   "source": [
    "import sys\n",
    "from pathlib import Path\n",
    "\n",
    "project_root = Path.cwd().parent\n",
    "project_root_str = str(project_root)\n",
    "\n",
    "if project_root_str not in sys.path:\n",
    "    sys.path.append(project_root_str)\n",
    "from src import utils as util"
   ]
  },
  {
   "cell_type": "markdown",
   "id": "e8d79278",
   "metadata": {},
   "source": [
    "## Load Essential Variables"
   ]
  },
  {
   "cell_type": "code",
   "execution_count": 2,
   "id": "a35d8aea",
   "metadata": {},
   "outputs": [],
   "source": [
    "# Load Config, Prompt and Schema\n",
    "config = util.get_config()\n",
    "prompt = util.get_prompt()\n",
    "schema = util.get_schema()\n",
    "\n",
    "\n",
    "# Load Client and Generation config \n",
    "client, generation_config = util.get_client(config, prompt, schema)\n",
    "\n",
    "# Load Filenames \n",
    "filenames = util.get_filenames(config)\n",
    "\n",
    "# Load Semaphore\n",
    "semaphore = util.get_semaphore(config)\n"
   ]
  },
  {
   "cell_type": "markdown",
   "id": "92a4ed35",
   "metadata": {},
   "source": [
    "## Run Inference"
   ]
  },
  {
   "cell_type": "code",
   "execution_count": 3,
   "id": "e686c569",
   "metadata": {},
   "outputs": [
    {
     "name": "stderr",
     "output_type": "stream",
     "text": [
      "Processing files: 100%|\u001b[32m██████████\u001b[0m| 8/8 [00:20<00:00,  2.57s/it]"
     ]
    },
    {
     "name": "stdout",
     "output_type": "stream",
     "text": [
      "\n",
      "✅ Done: 8 succeeded, 0 failed.\n"
     ]
    },
    {
     "name": "stderr",
     "output_type": "stream",
     "text": [
      "\n"
     ]
    }
   ],
   "source": [
    "args = [filenames, semaphore, config , prompt, client, generation_config]\n",
    "await util.run_inference(*args)"
   ]
  },
  {
   "cell_type": "code",
   "execution_count": null,
   "id": "3f26910b",
   "metadata": {},
   "outputs": [],
   "source": []
  }
 ],
 "metadata": {
  "kernelspec": {
   "display_name": "torch-env",
   "language": "python",
   "name": "python3"
  },
  "language_info": {
   "codemirror_mode": {
    "name": "ipython",
    "version": 3
   },
   "file_extension": ".py",
   "mimetype": "text/x-python",
   "name": "python",
   "nbconvert_exporter": "python",
   "pygments_lexer": "ipython3",
   "version": "3.12.7"
  }
 },
 "nbformat": 4,
 "nbformat_minor": 5
}
